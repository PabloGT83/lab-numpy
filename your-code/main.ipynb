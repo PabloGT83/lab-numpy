{
 "cells": [
  {
   "cell_type": "markdown",
   "metadata": {},
   "source": [
    "# Intrduction to NumPy\n",
    "\n",
    "\n",
    "#### 1. Import NumPy under the name np."
   ]
  },
  {
   "cell_type": "code",
   "execution_count": 1,
   "metadata": {},
   "outputs": [],
   "source": [
    "# your code here\n",
    "\n",
    "import numpy as np"
   ]
  },
  {
   "cell_type": "markdown",
   "metadata": {},
   "source": [
    "#### 2. Print your NumPy version."
   ]
  },
  {
   "cell_type": "code",
   "execution_count": 2,
   "metadata": {},
   "outputs": [
    {
     "data": {
      "text/plain": [
       "'1.18.5'"
      ]
     },
     "execution_count": 2,
     "metadata": {},
     "output_type": "execute_result"
    }
   ],
   "source": [
    "# your code here\n",
    "np.version.version"
   ]
  },
  {
   "cell_type": "markdown",
   "metadata": {},
   "source": [
    "#### 3. Generate a 2x3x5 3-dimensional array with random values. Assign the array to variable *a*.\n",
    "**Challenge**: there are at least three easy ways that use numpy to generate random arrays. How many ways can you find?"
   ]
  },
  {
   "cell_type": "code",
   "execution_count": 3,
   "metadata": {},
   "outputs": [
    {
     "name": "stdout",
     "output_type": "stream",
     "text": [
      "[[[0.36081227 0.57813173 0.35628797 0.84748232 0.76876763]\n",
      "  [0.21163469 0.15364345 0.67436447 0.0820975  0.23166859]\n",
      "  [0.09229251 0.13395239 0.09145282 0.78682323 0.493165  ]]\n",
      "\n",
      " [[0.16128451 0.60262521 0.12616461 0.17859695 0.50235506]\n",
      "  [0.76138665 0.35750741 0.82020224 0.62418017 0.57177997]\n",
      "  [0.44051    0.57404232 0.05307395 0.88123133 0.90991758]]]\n",
      "0.44758115143470645\n"
     ]
    }
   ],
   "source": [
    "# Method 1 Random over normal distribution, mean 0.5\n",
    "a= np.random.random((2,3,5))\n",
    "print(a)\n",
    "print(np.average(a))"
   ]
  },
  {
   "cell_type": "code",
   "execution_count": 4,
   "metadata": {},
   "outputs": [
    {
     "ename": "TypeError",
     "evalue": "'builtin_function_or_method' object is not subscriptable",
     "output_type": "error",
     "traceback": [
      "\u001b[0;31m---------------------------------------------------------------------------\u001b[0m",
      "\u001b[0;31mTypeError\u001b[0m                                 Traceback (most recent call last)",
      "\u001b[0;32m<ipython-input-4-30155fe8bee0>\u001b[0m in \u001b[0;36m<module>\u001b[0;34m\u001b[0m\n\u001b[1;32m      1\u001b[0m \u001b[0;31m# Method 2 Random over normal distribution, mean 0.5\u001b[0m\u001b[0;34m\u001b[0m\u001b[0;34m\u001b[0m\u001b[0;34m\u001b[0m\u001b[0m\n\u001b[0;32m----> 2\u001b[0;31m \u001b[0mb\u001b[0m\u001b[0;34m=\u001b[0m \u001b[0mnp\u001b[0m\u001b[0;34m.\u001b[0m\u001b[0mrandom\u001b[0m\u001b[0;34m.\u001b[0m\u001b[0mrand\u001b[0m\u001b[0;34m[\u001b[0m\u001b[0;34m(\u001b[0m\u001b[0;36m2\u001b[0m\u001b[0;34m,\u001b[0m\u001b[0;36m3\u001b[0m\u001b[0;34m,\u001b[0m\u001b[0;36m5\u001b[0m\u001b[0;34m)\u001b[0m\u001b[0;34m,\u001b[0m\u001b[0;34m(\u001b[0m\u001b[0;34m-\u001b[0m\u001b[0;36m2\u001b[0m\u001b[0;34m,\u001b[0m\u001b[0;36m3\u001b[0m\u001b[0;34m)\u001b[0m\u001b[0;34m]\u001b[0m\u001b[0;34m\u001b[0m\u001b[0;34m\u001b[0m\u001b[0m\n\u001b[0m\u001b[1;32m      3\u001b[0m \u001b[0mprint\u001b[0m\u001b[0;34m(\u001b[0m\u001b[0mb\u001b[0m\u001b[0;34m)\u001b[0m\u001b[0;34m\u001b[0m\u001b[0;34m\u001b[0m\u001b[0m\n\u001b[1;32m      4\u001b[0m \u001b[0mprint\u001b[0m\u001b[0;34m(\u001b[0m\u001b[0mnp\u001b[0m\u001b[0;34m.\u001b[0m\u001b[0maverage\u001b[0m\u001b[0;34m(\u001b[0m\u001b[0mb\u001b[0m\u001b[0;34m)\u001b[0m\u001b[0;34m)\u001b[0m\u001b[0;34m\u001b[0m\u001b[0;34m\u001b[0m\u001b[0m\n",
      "\u001b[0;31mTypeError\u001b[0m: 'builtin_function_or_method' object is not subscriptable"
     ]
    }
   ],
   "source": [
    "# Method 2 Random over normal distribution, mean 0.5\n",
    "b= np.random.rand[(2,3,5),(-2,3)]\n",
    "print(b)\n",
    "print(np.average(b))"
   ]
  },
  {
   "cell_type": "code",
   "execution_count": null,
   "metadata": {},
   "outputs": [],
   "source": [
    "# Method 3 Random over normal distribution, mean 0\n",
    "c= np.random.randn(2,3,5)\n",
    "print(c)\n",
    "print(np.average(c))"
   ]
  },
  {
   "cell_type": "markdown",
   "metadata": {},
   "source": [
    "#### 4. Print *a*.\n"
   ]
  },
  {
   "cell_type": "code",
   "execution_count": 5,
   "metadata": {},
   "outputs": [
    {
     "name": "stdout",
     "output_type": "stream",
     "text": [
      "[[[0.36081227 0.57813173 0.35628797 0.84748232 0.76876763]\n",
      "  [0.21163469 0.15364345 0.67436447 0.0820975  0.23166859]\n",
      "  [0.09229251 0.13395239 0.09145282 0.78682323 0.493165  ]]\n",
      "\n",
      " [[0.16128451 0.60262521 0.12616461 0.17859695 0.50235506]\n",
      "  [0.76138665 0.35750741 0.82020224 0.62418017 0.57177997]\n",
      "  [0.44051    0.57404232 0.05307395 0.88123133 0.90991758]]]\n"
     ]
    },
    {
     "data": {
      "text/plain": [
       "(2, 3, 5)"
      ]
     },
     "execution_count": 5,
     "metadata": {},
     "output_type": "execute_result"
    }
   ],
   "source": [
    "# your code here\n",
    "print(a)\n",
    "a.shape"
   ]
  },
  {
   "cell_type": "markdown",
   "metadata": {},
   "source": [
    "#### 5. Create a 5x2x3 3-dimensional array with all values equaling 1. Assign the array to variable *b*."
   ]
  },
  {
   "cell_type": "code",
   "execution_count": 6,
   "metadata": {},
   "outputs": [],
   "source": [
    "# your code here\n",
    "b=np.ones((5,2,3))"
   ]
  },
  {
   "cell_type": "markdown",
   "metadata": {},
   "source": [
    "#### 6. Print *b*.\n"
   ]
  },
  {
   "cell_type": "code",
   "execution_count": 7,
   "metadata": {},
   "outputs": [
    {
     "name": "stdout",
     "output_type": "stream",
     "text": [
      "[[[1. 1. 1.]\n",
      "  [1. 1. 1.]]\n",
      "\n",
      " [[1. 1. 1.]\n",
      "  [1. 1. 1.]]\n",
      "\n",
      " [[1. 1. 1.]\n",
      "  [1. 1. 1.]]\n",
      "\n",
      " [[1. 1. 1.]\n",
      "  [1. 1. 1.]]\n",
      "\n",
      " [[1. 1. 1.]\n",
      "  [1. 1. 1.]]]\n"
     ]
    }
   ],
   "source": [
    "# your code here\n",
    "print(b)"
   ]
  },
  {
   "cell_type": "markdown",
   "metadata": {},
   "source": [
    "#### 7. Do *a* and *b* have the same size? How do you prove that in Python code?"
   ]
  },
  {
   "cell_type": "code",
   "execution_count": 8,
   "metadata": {},
   "outputs": [
    {
     "name": "stdout",
     "output_type": "stream",
     "text": [
      "(2, 3, 5)\n",
      "(5, 2, 3)\n",
      "30\n",
      "30\n"
     ]
    }
   ],
   "source": [
    "# your code here\n",
    "print(a.shape)\n",
    "print(b.shape)\n",
    "print(a.size)\n",
    "print(b.size)\n"
   ]
  },
  {
   "cell_type": "markdown",
   "metadata": {},
   "source": [
    "#### 8. Are you able to add *a* and *b*? Why or why not?\n"
   ]
  },
  {
   "cell_type": "code",
   "execution_count": 9,
   "metadata": {},
   "outputs": [
    {
     "ename": "ValueError",
     "evalue": "operands could not be broadcast together with shapes (2,3,5) (5,2,3) ",
     "output_type": "error",
     "traceback": [
      "\u001b[0;31m---------------------------------------------------------------------------\u001b[0m",
      "\u001b[0;31mValueError\u001b[0m                                Traceback (most recent call last)",
      "\u001b[0;32m<ipython-input-9-16472f3368ef>\u001b[0m in \u001b[0;36m<module>\u001b[0;34m\u001b[0m\n\u001b[1;32m      1\u001b[0m \u001b[0;31m# your answer here\u001b[0m\u001b[0;34m\u001b[0m\u001b[0;34m\u001b[0m\u001b[0;34m\u001b[0m\u001b[0m\n\u001b[1;32m      2\u001b[0m \u001b[0;31m# Matrix shall share at least the dimension of the first column.\u001b[0m\u001b[0;34m\u001b[0m\u001b[0;34m\u001b[0m\u001b[0;34m\u001b[0m\u001b[0m\n\u001b[0;32m----> 3\u001b[0;31m \u001b[0md\u001b[0m\u001b[0;34m=\u001b[0m \u001b[0mnp\u001b[0m\u001b[0;34m.\u001b[0m\u001b[0madd\u001b[0m\u001b[0;34m(\u001b[0m\u001b[0ma\u001b[0m\u001b[0;34m,\u001b[0m\u001b[0mb\u001b[0m\u001b[0;34m)\u001b[0m\u001b[0;34m\u001b[0m\u001b[0;34m\u001b[0m\u001b[0m\n\u001b[0m",
      "\u001b[0;31mValueError\u001b[0m: operands could not be broadcast together with shapes (2,3,5) (5,2,3) "
     ]
    }
   ],
   "source": [
    "# your answer here\n",
    "# Matrix shall share at least the dimension of the first column. \n",
    "d= np.add(a,b)"
   ]
  },
  {
   "cell_type": "markdown",
   "metadata": {},
   "source": [
    "#### 9. Transpose *b* so that it has the same structure of *a* (i.e. become a 2x3x5 array). Assign the transposed array to variable *c*."
   ]
  },
  {
   "cell_type": "code",
   "execution_count": 10,
   "metadata": {},
   "outputs": [
    {
     "data": {
      "text/plain": [
       "(2, 3, 5)"
      ]
     },
     "execution_count": 10,
     "metadata": {},
     "output_type": "execute_result"
    }
   ],
   "source": [
    "# your code here\n",
    "c= np.transpose(b, (1, 2, 0))\n",
    "c.shape"
   ]
  },
  {
   "cell_type": "markdown",
   "metadata": {},
   "source": [
    "#### 10. Try to add *a* and *c*. Now it should work. Assign the sum to variable *d*. But why does it work now?"
   ]
  },
  {
   "cell_type": "code",
   "execution_count": 11,
   "metadata": {},
   "outputs": [
    {
     "name": "stdout",
     "output_type": "stream",
     "text": [
      "[[[1.36081227 1.57813173 1.35628797 1.84748232 1.76876763]\n",
      "  [1.21163469 1.15364345 1.67436447 1.0820975  1.23166859]\n",
      "  [1.09229251 1.13395239 1.09145282 1.78682323 1.493165  ]]\n",
      "\n",
      " [[1.16128451 1.60262521 1.12616461 1.17859695 1.50235506]\n",
      "  [1.76138665 1.35750741 1.82020224 1.62418017 1.57177997]\n",
      "  [1.44051    1.57404232 1.05307395 1.88123133 1.90991758]]]\n"
     ]
    }
   ],
   "source": [
    "# your code/answer here\n",
    "d= np.add(a,c)\n",
    "print(d)"
   ]
  },
  {
   "cell_type": "markdown",
   "metadata": {},
   "source": [
    "#### 11. Print *a* and *d*. Notice the difference and relation of the two array in terms of the values? Explain."
   ]
  },
  {
   "cell_type": "code",
   "execution_count": 12,
   "metadata": {},
   "outputs": [
    {
     "name": "stdout",
     "output_type": "stream",
     "text": [
      "[[[0.36081227 0.57813173 0.35628797 0.84748232 0.76876763]\n",
      "  [0.21163469 0.15364345 0.67436447 0.0820975  0.23166859]\n",
      "  [0.09229251 0.13395239 0.09145282 0.78682323 0.493165  ]]\n",
      "\n",
      " [[0.16128451 0.60262521 0.12616461 0.17859695 0.50235506]\n",
      "  [0.76138665 0.35750741 0.82020224 0.62418017 0.57177997]\n",
      "  [0.44051    0.57404232 0.05307395 0.88123133 0.90991758]]]\n",
      "[[[1.36081227 1.57813173 1.35628797 1.84748232 1.76876763]\n",
      "  [1.21163469 1.15364345 1.67436447 1.0820975  1.23166859]\n",
      "  [1.09229251 1.13395239 1.09145282 1.78682323 1.493165  ]]\n",
      "\n",
      " [[1.16128451 1.60262521 1.12616461 1.17859695 1.50235506]\n",
      "  [1.76138665 1.35750741 1.82020224 1.62418017 1.57177997]\n",
      "  [1.44051    1.57404232 1.05307395 1.88123133 1.90991758]]]\n",
      "[[[1. 1. 1. 1. 1.]\n",
      "  [1. 1. 1. 1. 1.]\n",
      "  [1. 1. 1. 1. 1.]]\n",
      "\n",
      " [[1. 1. 1. 1. 1.]\n",
      "  [1. 1. 1. 1. 1.]\n",
      "  [1. 1. 1. 1. 1.]]]\n"
     ]
    }
   ],
   "source": [
    "# your code/answer here: \n",
    "\n",
    "print(a)\n",
    "print(d)\n",
    "print(d-a)"
   ]
  },
  {
   "cell_type": "markdown",
   "metadata": {},
   "source": [
    "#### 12. Multiply *a* and *c*. Assign the result to *e*."
   ]
  },
  {
   "cell_type": "code",
   "execution_count": 13,
   "metadata": {},
   "outputs": [
    {
     "name": "stdout",
     "output_type": "stream",
     "text": [
      "[[[0.36081227 0.57813173 0.35628797 0.84748232 0.76876763]\n",
      "  [0.21163469 0.15364345 0.67436447 0.0820975  0.23166859]\n",
      "  [0.09229251 0.13395239 0.09145282 0.78682323 0.493165  ]]\n",
      "\n",
      " [[0.16128451 0.60262521 0.12616461 0.17859695 0.50235506]\n",
      "  [0.76138665 0.35750741 0.82020224 0.62418017 0.57177997]\n",
      "  [0.44051    0.57404232 0.05307395 0.88123133 0.90991758]]]\n"
     ]
    }
   ],
   "source": [
    "# your code here\n",
    "e= np.multiply(a,c)\n",
    "print(e)"
   ]
  },
  {
   "cell_type": "markdown",
   "metadata": {},
   "source": [
    "#### 13. Does *e* equal to *a*? Why or why not?\n"
   ]
  },
  {
   "cell_type": "code",
   "execution_count": 14,
   "metadata": {},
   "outputs": [
    {
     "name": "stdout",
     "output_type": "stream",
     "text": [
      "[[[0. 0. 0. 0. 0.]\n",
      "  [0. 0. 0. 0. 0.]\n",
      "  [0. 0. 0. 0. 0.]]\n",
      "\n",
      " [[0. 0. 0. 0. 0.]\n",
      "  [0. 0. 0. 0. 0.]\n",
      "  [0. 0. 0. 0. 0.]]]\n"
     ]
    }
   ],
   "source": [
    "# your code/answer here\n",
    "print(a-e)"
   ]
  },
  {
   "cell_type": "code",
   "execution_count": 15,
   "metadata": {},
   "outputs": [
    {
     "data": {
      "text/plain": [
       "array([[[ True,  True,  True,  True,  True],\n",
       "        [ True,  True,  True,  True,  True],\n",
       "        [ True,  True,  True,  True,  True]],\n",
       "\n",
       "       [[ True,  True,  True,  True,  True],\n",
       "        [ True,  True,  True,  True,  True],\n",
       "        [ True,  True,  True,  True,  True]]])"
      ]
     },
     "execution_count": 15,
     "metadata": {},
     "output_type": "execute_result"
    }
   ],
   "source": [
    "a==e"
   ]
  },
  {
   "cell_type": "markdown",
   "metadata": {},
   "source": [
    "#### 14. Identify the max, min, and mean values in *d*. Assign those values to variables *d_max*, *d_min* and *d_mean*."
   ]
  },
  {
   "cell_type": "code",
   "execution_count": 19,
   "metadata": {},
   "outputs": [
    {
     "name": "stdout",
     "output_type": "stream",
     "text": [
      "[[[1.36081227 1.57813173 1.35628797 1.84748232 1.76876763]\n",
      "  [1.21163469 1.15364345 1.67436447 1.0820975  1.23166859]\n",
      "  [1.09229251 1.13395239 1.09145282 1.78682323 1.493165  ]]\n",
      "\n",
      " [[1.16128451 1.60262521 1.12616461 1.17859695 1.50235506]\n",
      "  [1.76138665 1.35750741 1.82020224 1.62418017 1.57177997]\n",
      "  [1.44051    1.57404232 1.05307395 1.88123133 1.90991758]]]\n",
      "2\n"
     ]
    }
   ],
   "source": [
    "# your code here\n",
    "print(d)\n",
    "print(len(d))\n"
   ]
  },
  {
   "cell_type": "code",
   "execution_count": 17,
   "metadata": {},
   "outputs": [
    {
     "name": "stdout",
     "output_type": "stream",
     "text": [
      "1.9099175812226465 1.0530739482118614 1.4475811514347063\n"
     ]
    }
   ],
   "source": [
    "d_max=np.max(d)\n",
    "d_min=np.min(d)\n",
    "d_mean=np.average(d)\n",
    "print(d_max,d_min,d_mean)"
   ]
  },
  {
   "cell_type": "markdown",
   "metadata": {},
   "source": [
    "#### 15. Now we want to label the values in *d*. First create an empty array *f* with the same shape (i.e. 2x3x5) as *d* using `np.empty`.\n"
   ]
  },
  {
   "cell_type": "code",
   "execution_count": 36,
   "metadata": {},
   "outputs": [
    {
     "name": "stdout",
     "output_type": "stream",
     "text": [
      "[[[1.36081227 1.57813173 1.35628797 1.84748232 1.76876763]\n",
      "  [1.21163469 1.15364345 1.67436447 1.0820975  1.23166859]\n",
      "  [1.09229251 1.13395239 1.09145282 1.78682323 1.493165  ]]\n",
      "\n",
      " [[1.16128451 1.60262521 1.12616461 1.17859695 1.50235506]\n",
      "  [1.76138665 1.35750741 1.82020224 1.62418017 1.57177997]\n",
      "  [1.44051    1.57404232 1.05307395 1.88123133 1.90991758]]]\n"
     ]
    }
   ],
   "source": [
    "# your code here\n",
    "z = np.empty((2,3,5))\n",
    "print(z)\n",
    "z=list(z)\n"
   ]
  },
  {
   "cell_type": "markdown",
   "metadata": {},
   "source": [
    "#### 16. Populate the values in *f*. \n",
    "\n",
    "For each value in *d*, if it's larger than *d_min* but smaller than *d_mean*, assign 25 to the corresponding value in *f*. If a value in *d* is larger than *d_mean* but smaller than *d_max*, assign 75 to the corresponding value in *f*. If a value equals to *d_mean*, assign 50 to the corresponding value in *f*. Assign 0 to the corresponding value(s) in *f* for *d_min* in *d*. Assign 100 to the corresponding value(s) in *f* for *d_max* in *d*. In the end, f should have only the following values: 0, 25, 50, 75, and 100.\n",
    "\n",
    "**Note**: you don't have to use Numpy in this question."
   ]
  },
  {
   "cell_type": "code",
   "execution_count": 38,
   "metadata": {},
   "outputs": [],
   "source": [
    "list_array=[]"
   ]
  },
  {
   "cell_type": "code",
   "execution_count": 53,
   "metadata": {},
   "outputs": [
    {
     "name": "stdout",
     "output_type": "stream",
     "text": [
      "30\n"
     ]
    },
    {
     "data": {
      "text/plain": [
       "30"
      ]
     },
     "execution_count": 53,
     "metadata": {},
     "output_type": "execute_result"
    }
   ],
   "source": [
    "# your code here\n",
    "counter= 0\n",
    "for groups in d:\n",
    "    for subgroups in groups:\n",
    "        for i in subgroups:\n",
    "            counter +=1\n",
    "            if d_min < i < d_mean:\n",
    "                list_array.append(25)\n",
    "            elif d_mean < i < d_max:\n",
    "                list_array.append(75)\n",
    "            elif  i == d_mean:\n",
    "                list_array.append(50)\n",
    "            elif  i == d_min:\n",
    "                list_array.append(0)\n",
    "            else:\n",
    "                list_array.append(100)\n",
    "print(counter)\n",
    "d.size"
   ]
  },
  {
   "cell_type": "code",
   "execution_count": 40,
   "metadata": {},
   "outputs": [
    {
     "name": "stdout",
     "output_type": "stream",
     "text": [
      "[25, 75, 25, 75, 75, 25, 25, 75, 25, 25, 25, 25, 25, 75, 75, 25, 75, 25, 25, 75, 75, 25, 75, 75, 75, 25, 75, 0, 75, 100]\n"
     ]
    }
   ],
   "source": [
    "print(list_array)"
   ]
  },
  {
   "cell_type": "code",
   "execution_count": 46,
   "metadata": {},
   "outputs": [
    {
     "name": "stdout",
     "output_type": "stream",
     "text": [
      "[ 25  75  25  75  75  25  25  75  25  25  25  25  25  75  75  25  75  25\n",
      "  25  75  75  25  75  75  75  25  75   0  75 100]\n"
     ]
    }
   ],
   "source": [
    "z2= np.array(list_array)\n",
    "print(z2)"
   ]
  },
  {
   "cell_type": "code",
   "execution_count": 47,
   "metadata": {},
   "outputs": [
    {
     "data": {
      "text/plain": [
       "array([[[ 25,  75,  25,  75,  75],\n",
       "        [ 25,  25,  75,  25,  25],\n",
       "        [ 25,  25,  25,  75,  75]],\n",
       "\n",
       "       [[ 25,  75,  25,  25,  75],\n",
       "        [ 75,  25,  75,  75,  75],\n",
       "        [ 25,  75,   0,  75, 100]]])"
      ]
     },
     "execution_count": 47,
     "metadata": {},
     "output_type": "execute_result"
    }
   ],
   "source": [
    "np.reshape(z2, (2,3,5))"
   ]
  },
  {
   "cell_type": "markdown",
   "metadata": {},
   "source": [
    "#### 17. Print *d* and *f*. Do you have your expected *f*?\n",
    "For instance, if your *d* is:\n",
    "```python\n",
    "[[[1.85836099, 1.67064465, 1.62576044, 1.40243961, 1.88454931],\n",
    "[1.75354326, 1.69403643, 1.36729252, 1.61415071, 1.12104981],\n",
    "[1.72201435, 1.1862918 , 1.87078449, 1.7726778 , 1.88180042]],\n",
    "[[1.44747908, 1.31673383, 1.02000951, 1.52218947, 1.97066381],\n",
    "[1.79129243, 1.74983003, 1.96028037, 1.85166831, 1.65450881],\n",
    "[1.18068344, 1.9587381 , 1.00656599, 1.93402165, 1.73514584]]]\n",
    "```\n",
    "Your *f* should be:\n",
    "```python\n",
    "[[[ 75.,  75.,  75.,  25.,  75.],\n",
    "[ 75.,  75.,  25.,  25.,  25.],\n",
    "[ 75.,  25.,  75.,  75.,  75.]],\n",
    "[[ 25.,  25.,  25.,  25., 100.],\n",
    "[ 75.,  75.,  75.,  75.,  75.],\n",
    "[ 25.,  75.,   0.,  75.,  75.]]]\n",
    "```"
   ]
  },
  {
   "cell_type": "code",
   "execution_count": null,
   "metadata": {},
   "outputs": [],
   "source": [
    "# your code here"
   ]
  },
  {
   "cell_type": "markdown",
   "metadata": {},
   "source": [
    "#### 18. Bonus question: instead of using numbers (i.e. 0, 25, 50, 75, and 100), use string values  (\"A\", \"B\", \"C\", \"D\", and \"E\") to label the array elements. For the example above, the expected result is:\n",
    "\n",
    "```python\n",
    "[[[ 'D',  'D',  'D',  'B',  'D'],\n",
    "[ 'D',  'D',  'B',  'B',  'B'],\n",
    "[ 'D',  'B',  'D',  'D',  'D']],\n",
    "[[ 'B',  'B',  'B',  'B',  'E'],\n",
    "[ 'D',  'D',  'D',  'D',  'D'],\n",
    "[ 'B',  'D',   'A',  'D', 'D']]]\n",
    "```\n",
    "**Note**: you don't have to use Numpy in this question."
   ]
  },
  {
   "cell_type": "code",
   "execution_count": 54,
   "metadata": {},
   "outputs": [
    {
     "name": "stdout",
     "output_type": "stream",
     "text": [
      "['A', 'B', 'A', 'B', 'B', 'A', 'A', 'B', 'A', 'A', 'A', 'A', 'A', 'B', 'B', 'A', 'B', 'A', 'A', 'B', 'B', 'A', 'B', 'B', 'B', 'A', 'B', 'D', 'B', 'E']\n"
     ]
    }
   ],
   "source": [
    "# your code here\n",
    "\n",
    "list_array2=[]\n",
    "\n",
    "counter= 0\n",
    "for groups in d:\n",
    "    for subgroups in groups:\n",
    "        for i in subgroups:\n",
    "            counter +=1\n",
    "            if d_min < i < d_mean:\n",
    "                list_array2.append('A')\n",
    "            elif d_mean < i < d_max:\n",
    "                list_array2.append('B')\n",
    "            elif  i == d_mean:\n",
    "                list_array2.append('C')\n",
    "            elif  i == d_min:\n",
    "                list_array2.append('D')\n",
    "            else:\n",
    "                list_array2.append('E')\n",
    "                \n",
    "print(list_array2)"
   ]
  },
  {
   "cell_type": "code",
   "execution_count": 55,
   "metadata": {},
   "outputs": [
    {
     "name": "stdout",
     "output_type": "stream",
     "text": [
      "['A' 'B' 'A' 'B' 'B' 'A' 'A' 'B' 'A' 'A' 'A' 'A' 'A' 'B' 'B' 'A' 'B' 'A'\n",
      " 'A' 'B' 'B' 'A' 'B' 'B' 'B' 'A' 'B' 'D' 'B' 'E']\n"
     ]
    },
    {
     "data": {
      "text/plain": [
       "array([[['A', 'B', 'A', 'B', 'B'],\n",
       "        ['A', 'A', 'B', 'A', 'A'],\n",
       "        ['A', 'A', 'A', 'B', 'B']],\n",
       "\n",
       "       [['A', 'B', 'A', 'A', 'B'],\n",
       "        ['B', 'A', 'B', 'B', 'B'],\n",
       "        ['A', 'B', 'D', 'B', 'E']]], dtype='<U1')"
      ]
     },
     "execution_count": 55,
     "metadata": {},
     "output_type": "execute_result"
    }
   ],
   "source": [
    "z3= np.array(list_array2)\n",
    "print(z3)\n",
    "\n",
    "np.reshape(z3, (2,3,5))"
   ]
  },
  {
   "cell_type": "code",
   "execution_count": null,
   "metadata": {},
   "outputs": [],
   "source": []
  },
  {
   "cell_type": "code",
   "execution_count": null,
   "metadata": {},
   "outputs": [],
   "source": []
  }
 ],
 "metadata": {
  "kernelspec": {
   "display_name": "Python 3",
   "language": "python",
   "name": "python3"
  },
  "language_info": {
   "codemirror_mode": {
    "name": "ipython",
    "version": 3
   },
   "file_extension": ".py",
   "mimetype": "text/x-python",
   "name": "python",
   "nbconvert_exporter": "python",
   "pygments_lexer": "ipython3",
   "version": "3.8.3"
  }
 },
 "nbformat": 4,
 "nbformat_minor": 4
}
